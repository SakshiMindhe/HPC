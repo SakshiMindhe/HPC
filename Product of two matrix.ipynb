{
  "nbformat": 4,
  "nbformat_minor": 0,
  "metadata": {
    "colab": {
      "provenance": [],
      "gpuType": "T4"
    },
    "kernelspec": {
      "name": "python3",
      "display_name": "Python 3"
    },
    "language_info": {
      "name": "python"
    },
    "accelerator": "GPU"
  },
  "cells": [
    {
      "cell_type": "code",
      "execution_count": 1,
      "metadata": {
        "colab": {
          "base_uri": "https://localhost:8080/"
        },
        "id": "E2WTHSkKxrAb",
        "outputId": "977d5ac7-903b-4c4e-a079-9abe385a1da2"
      },
      "outputs": [
        {
          "output_type": "stream",
          "name": "stdout",
          "text": [
            "nvcc: NVIDIA (R) Cuda compiler driver\n",
            "Copyright (c) 2005-2022 NVIDIA Corporation\n",
            "Built on Wed_Sep_21_10:33:58_PDT_2022\n",
            "Cuda compilation tools, release 11.8, V11.8.89\n",
            "Build cuda_11.8.r11.8/compiler.31833905_0\n"
          ]
        }
      ],
      "source": [
        "!nvcc --version"
      ]
    },
    {
      "cell_type": "code",
      "source": [
        "!pip install git+https://github.com/andreinechaev/nvcc4jupyter.git"
      ],
      "metadata": {
        "colab": {
          "base_uri": "https://localhost:8080/"
        },
        "id": "MHY_S_8ix48G",
        "outputId": "5400b436-dd01-4ec6-b823-f54003613a80"
      },
      "execution_count": 2,
      "outputs": [
        {
          "output_type": "stream",
          "name": "stdout",
          "text": [
            "Looking in indexes: https://pypi.org/simple, https://us-python.pkg.dev/colab-wheels/public/simple/\n",
            "Collecting git+https://github.com/andreinechaev/nvcc4jupyter.git\n",
            "  Cloning https://github.com/andreinechaev/nvcc4jupyter.git to /tmp/pip-req-build-cf44yz_5\n",
            "  Running command git clone --filter=blob:none --quiet https://github.com/andreinechaev/nvcc4jupyter.git /tmp/pip-req-build-cf44yz_5\n",
            "  Resolved https://github.com/andreinechaev/nvcc4jupyter.git to commit aac710a35f52bb78ab34d2e52517237941399eff\n",
            "  Preparing metadata (setup.py) ... \u001b[?25l\u001b[?25hdone\n",
            "Building wheels for collected packages: NVCCPlugin\n",
            "  Building wheel for NVCCPlugin (setup.py) ... \u001b[?25l\u001b[?25hdone\n",
            "  Created wheel for NVCCPlugin: filename=NVCCPlugin-0.0.2-py3-none-any.whl size=4287 sha256=fc7661093d84e73a995aa2965da2d2ed5761718c7240cce362efa8a4f19d7c48\n",
            "  Stored in directory: /tmp/pip-ephem-wheel-cache-kt8dsqdu/wheels/a8/b9/18/23f8ef71ceb0f63297dd1903aedd067e6243a68ea756d6feea\n",
            "Successfully built NVCCPlugin\n",
            "Installing collected packages: NVCCPlugin\n",
            "Successfully installed NVCCPlugin-0.0.2\n"
          ]
        }
      ]
    },
    {
      "cell_type": "code",
      "source": [
        "%load_ext nvcc_plugin"
      ],
      "metadata": {
        "colab": {
          "base_uri": "https://localhost:8080/"
        },
        "id": "blM5f-RYx82M",
        "outputId": "3a58dc93-731a-4118-b8e1-424b62af3f87"
      },
      "execution_count": 3,
      "outputs": [
        {
          "output_type": "stream",
          "name": "stdout",
          "text": [
            "created output directory at /content/src\n",
            "Out bin /content/result.out\n"
          ]
        }
      ]
    },
    {
      "cell_type": "code",
      "source": [
        "%%cu\n",
        "#include \"cuda_runtime.h\"\n",
        "#include \"device_launch_parameters.h\"\n",
        "#include <stdio.h>\n",
        "__global__ void addKernel(int* c, const int* a, const int* b, int size) {\n",
        " int i = blockIdx.x * blockDim.x + threadIdx.x;\n",
        " if (i < size) {\n",
        " c[i] = a[i] + b[i];\n",
        " }\n",
        "}\n",
        "// Helper function for using CUDA to add vectors in parallel.\n",
        "void addWithCuda(int* c, const int* a, const int* b, int size) {\n",
        " int* dev_a = nullptr;\n",
        " int* dev_b = nullptr;\n",
        " int* dev_c = nullptr;\n",
        " // Allocate GPU buffers for three vectors (two input, one output)\n",
        " cudaMalloc((void**)&dev_c, size * sizeof(int));\n",
        " cudaMalloc((void**)&dev_a, size * sizeof(int));\n",
        " cudaMalloc((void**)&dev_b, size * sizeof(int));\n",
        " // Copy input vectors from host memory to GPU buffers.\n",
        " cudaMemcpy(dev_a, a, size * sizeof(int), cudaMemcpyHostToDevice);\n",
        " cudaMemcpy(dev_b, b, size * sizeof(int), cudaMemcpyHostToDevice);\n",
        " // Launch a kernel on the GPU with one thread for each element.\n",
        " // 2 is number of computational blocks and (size + 1) / 2 is a number of threads in a block\n",
        " addKernel<<<2, (size + 1) / 2>>>(dev_c, dev_a, dev_b, size);\n",
        "\n",
        " // cudaDeviceSynchronize waits for the kernel to finish, and returns any errors encountered during\n",
        "//the launch.\n",
        " cudaDeviceSynchronize();\n",
        " // Copy output vector from GPU buffer to host memory.\n",
        " cudaMemcpy(c, dev_c, size * sizeof(int), cudaMemcpyDeviceToHost);\n",
        " cudaFree(dev_c);\n",
        " cudaFree(dev_a);\n",
        " cudaFree(dev_b);\n",
        "}\n",
        "int main(int argc, char** argv) {\n",
        " const int arraySize = 5;\n",
        " const int a[arraySize] = { 1, 2, 3, 4, 5 };\n",
        " const int b[arraySize] = { 10, 20, 30, 40, 50 };\n",
        " int c[arraySize] = { 0 };\n",
        " addWithCuda(c, a, b, arraySize);\n",
        " printf(\"{1, 2, 3, 4, 5} + {10, 20, 30, 40, 50} = {%d, %d, %d, %d, %d}\\n\", c[0], c[1], c[2], c[3], c[4]);\n",
        " cudaDeviceReset();\n",
        " return 0;\n",
        "}"
      ],
      "metadata": {
        "colab": {
          "base_uri": "https://localhost:8080/"
        },
        "id": "Mn6NVhQZx9vV",
        "outputId": "09af4584-6f88-47dc-d2d3-dfeee9cdee3b"
      },
      "execution_count": 4,
      "outputs": [
        {
          "output_type": "stream",
          "name": "stdout",
          "text": [
            "{1, 2, 3, 4, 5} + {10, 20, 30, 40, 50} = {11, 22, 33, 44, 55}\n",
            "\n"
          ]
        }
      ]
    },
    {
      "cell_type": "code",
      "source": [
        "%%cu\n",
        "#include<stdio.h>\n",
        "#include<cuda.h>\n",
        "#define row1 2 /* Number of rows of first matrix */\n",
        "#define col1 3 /* Number of columns of first matrix */\n",
        "#define row2 3 /* Number of rows of second matrix */\n",
        "#define col2 2 /* Number of columns of second matrix */\n",
        "__global__ void matproduct(int *l, int *m, int *n){\n",
        " int x = blockIdx.x;\n",
        " int y = blockIdx.y;\n",
        " int k;\n",
        " n[col2 * y + x] = 0;\n",
        " for(k = 0; k < col1; k++){\n",
        " n[col2 * y + x] = n[col2 * y + x] + l[col1 * y + k] * m[col2 * k + x];\n",
        " }\n",
        "}\n",
        "int main(){\n",
        " //# int row1 = 2, row2 = 3, col1 = 3, col2 = 2;\n",
        " int a[row1][col1] = {{1, 2, 3}, {4, 5, 6}};\n",
        " int b[row2][col2] = {{9, 8}, {6, 5}, {3, 2}};\n",
        " int c[row1][col2];\n",
        " int *d, *e, *f;\n",
        " int i, j;\n",
        " cudaMalloc((void **)&d, row1*col1*sizeof(int));\n",
        " cudaMalloc((void **)&e, row2*col2*sizeof(int));\n",
        " cudaMalloc((void **)&f, row1*col2*sizeof(int));\n",
        " cudaMemcpy(d, a, row1*col1*sizeof(int), cudaMemcpyHostToDevice);\n",
        " cudaMemcpy(e, b, row2*col2*sizeof(int), cudaMemcpyHostToDevice);\n",
        " dim3 grid(col2, row1);\n",
        " # /* Here we are defining two dimensional Grid(collection of blocks) structure. Syntax is dim3\n",
        "grid(no. of columns,no. of rows) */\n",
        " matproduct<<<grid,1>>>(d,e,f);\n",
        " cudaMemcpy(c, f, row1*col2*sizeof(int), cudaMemcpyDeviceToHost);\n",
        " printf(\"\\nProduct of two matrices:\\n \");\n",
        "\n",
        " for(i = 0; i < row1; i++){\n",
        " for(j = 0; j < col2; j++){\n",
        " printf(\"%d\\t\",c[i][j]);\n",
        " }\n",
        " printf(\"\\n\");\n",
        " }\n",
        " cudaFree(d);\n",
        " cudaFree(e);\n",
        " cudaFree(f);\n",
        " return 0;\n",
        "} \n"
      ],
      "metadata": {
        "colab": {
          "base_uri": "https://localhost:8080/"
        },
        "id": "0MKAmHH7yE8l",
        "outputId": "b89ce9a0-2dc6-4075-c647-c1d8bafd1bd2"
      },
      "execution_count": 5,
      "outputs": [
        {
          "output_type": "stream",
          "name": "stdout",
          "text": [
            "\n",
            "Product of two matrices:\n",
            " 30\t24\t\n",
            "84\t69\t\n",
            "\n"
          ]
        }
      ]
    },
    {
      "cell_type": "code",
      "source": [],
      "metadata": {
        "id": "cTJnlSzByVEE"
      },
      "execution_count": null,
      "outputs": []
    }
  ]
}